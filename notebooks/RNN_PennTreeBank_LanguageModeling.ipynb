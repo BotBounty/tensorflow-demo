{
 "cells": [
  {
   "cell_type": "markdown",
   "metadata": {},
   "source": [
    "### Step1: 读取数据"
   ]
  },
  {
   "cell_type": "code",
   "execution_count": 1,
   "metadata": {
    "collapsed": false
   },
   "outputs": [
    {
     "name": "stdout",
     "output_type": "stream",
     "text": [
      "Words in training data: 929589\n",
      "Words in validating data: 73760\n",
      "Words in testing data: 82430\n",
      "Example training data: [9970, 9971, 9972, 9974, 9975, 9976, 9980, 9981, 9982, 9983]\n",
      "Example validating data: [1132, 93, 358, 5, 329, 51, 9836, 6, 326, 2476]\n",
      "Example testing data: [102, 14, 24, 32, 752, 381, 2, 29, 120, 0]\n"
     ]
    }
   ],
   "source": [
    "import time\n",
    "import collections\n",
    "import os\n",
    "\n",
    "import numpy as np\n",
    "import tensorflow as tf\n",
    "\n",
    "def read_words(filename):\n",
    "    with tf.gfile.GFile(filename, \"r\") as f:\n",
    "        return f.read().replace(\"\\n\", \"<eos>\").split()\n",
    "\n",
    "def build_vocab(filename):\n",
    "    data = read_words(filename)\n",
    "    counter = collections.Counter(data)\n",
    "    count_pairs = sorted(counter.items(), key=lambda x: (-x[1], x[0]))\n",
    "    words, _ = list(zip(*count_pairs))\n",
    "    word_to_id = dict(zip(words, range(len(words))))\n",
    "    return word_to_id\n",
    "\n",
    "def file_to_word_ids(filename, word_to_id):\n",
    "    data = read_words(filename)\n",
    "    return [word_to_id[word] for word in data]\n",
    "\n",
    "def ptb_raw_data():\n",
    "    train_path = \"ptb.train.txt\"\n",
    "    valid_path = \"ptb.valid.txt\"\n",
    "    test_path = \"ptb.test.txt\"\n",
    "\n",
    "    word_to_id = build_vocab(train_path)\n",
    "    train_data = file_to_word_ids(train_path, word_to_id)\n",
    "    valid_data = file_to_word_ids(valid_path, word_to_id)\n",
    "    test_data = file_to_word_ids(test_path, word_to_id)\n",
    "    return train_data, valid_data, test_data\n",
    "\n",
    "train_data, valid_data, test_data = ptb_raw_data()\n",
    "print \"Words in training data:\", len(train_data)\n",
    "print \"Words in validating data:\", len(valid_data)\n",
    "print \"Words in testing data:\", len(test_data)\n",
    "print \"Example training data:\", train_data[:10]\n",
    "print \"Example validating data:\", valid_data[:10]\n",
    "print \"Example testing data:\", test_data[:10]"
   ]
  },
  {
   "cell_type": "markdown",
   "metadata": {},
   "source": [
    "### Step2: 整理RNN数据格式"
   ]
  },
  {
   "cell_type": "code",
   "execution_count": 2,
   "metadata": {
    "collapsed": false
   },
   "outputs": [
    {
     "name": "stdout",
     "output_type": "stream",
     "text": [
      "X: [[ 0  1  2]\n",
      " [ 8  9 10]\n",
      " [16 17 18]]\n",
      "Y: [[ 1  2  3]\n",
      " [ 9 10 11]\n",
      " [17 18 19]]\n",
      "-------------------\n",
      "X: [[ 3  4  5]\n",
      " [11 12 13]\n",
      " [19 20 21]]\n",
      "Y: [[ 4  5  6]\n",
      " [12 13 14]\n",
      " [20 21 22]]\n",
      "-------------------\n"
     ]
    }
   ],
   "source": [
    "def ptb_iterator(raw_data, batch_size, num_steps):\n",
    "    raw_data = np.array(raw_data, dtype=np.int32)\n",
    "    data_len = len(raw_data)\n",
    "    batch_len = data_len // batch_size\n",
    "    data = np.zeros([batch_size, batch_len], dtype=np.int32)\n",
    "    for i in range(batch_size):\n",
    "        data[i] = raw_data[batch_len * i:batch_len * (i + 1)]\n",
    "\n",
    "    epoch_size = (batch_len - 1) // num_steps\n",
    "    if epoch_size == 0:\n",
    "        raise ValueError(\"epoch_size == 0, decrease batch_size or num_steps\")\n",
    "\n",
    "    for i in range(epoch_size):\n",
    "        x = data[:, i*num_steps:(i+1)*num_steps]\n",
    "        y = data[:, i*num_steps+1:(i+1)*num_steps+1]\n",
    "        yield (x, y)\n",
    "\n",
    "result = ptb_iterator(range(25), 3, 3)\n",
    "for x, y in result:\n",
    "    print \"X:\", x\n",
    "    print \"Y:\", y\n",
    "    print \"-------------------\"\n",
    "    "
   ]
  },
  {
   "cell_type": "markdown",
   "metadata": {},
   "source": [
    "### Step 3: 建立RNN网络"
   ]
  },
  {
   "cell_type": "code",
   "execution_count": null,
   "metadata": {
    "collapsed": false
   },
   "outputs": [
    {
     "name": "stdout",
     "output_type": "stream",
     "text": [
      "Model generated!\n"
     ]
    }
   ],
   "source": [
    "hidden_size = 650\n",
    "num_layer = 2\n",
    "vocab_size = 10000\n",
    "\n",
    "class PTBModel(object):\n",
    "    def __init__(self, is_training, batch_size, num_steps):\n",
    "        self.batch_size = batch_size\n",
    "        self.num_steps = num_steps\n",
    "        \n",
    "        # Define Input & Output\n",
    "        self.input_data = tf.placeholder(tf.int32, [batch_size, num_steps])\n",
    "        self.targets = tf.placeholder(tf.int32, [batch_size, num_steps])\n",
    "        \n",
    "        # Define RNN network\n",
    "        lstm_cell = tf.nn.rnn_cell.BasicLSTMCell(hidden_size, forget_bias=0.0)\n",
    "        if is_training :\n",
    "            lstm_cell = tf.nn.rnn_cell.DropoutWrapper(lstm_cell, output_keep_prob=0.5)\n",
    "        cell = tf.nn.rnn_cell.MultiRNNCell([lstm_cell] * num_layer)\n",
    "\n",
    "        # Embedding\n",
    "        self.initial_state = cell.zero_state(batch_size, tf.float32)\n",
    "        embedding = tf.get_variable(\"embedding\", [vocab_size, hidden_size])\n",
    "        inputs = tf.nn.embedding_lookup(embedding, self.input_data)\n",
    "        if is_training: inputs = tf.nn.dropout(inputs, 0.5)\n",
    "\n",
    "        # Forward propregate\n",
    "        outputs = []\n",
    "        state = self.initial_state\n",
    "        with tf.variable_scope(\"RNN\"):\n",
    "            for time_step in range(num_steps):\n",
    "                if time_step > 0: tf.get_variable_scope().reuse_variables()\n",
    "                (cell_output, state) = cell(inputs[:, time_step, :], state)\n",
    "                outputs.append(cell_output)\n",
    "\n",
    "        output = tf.reshape(tf.concat(1, outputs), [-1, hidden_size])\n",
    "        softmax_w = tf.get_variable(\"softmax_w\", [hidden_size, vocab_size])\n",
    "        softmax_b = tf.get_variable(\"softmax_b\", [vocab_size])\n",
    "        logits = tf.matmul(output, softmax_w) + softmax_b\n",
    "        loss = tf.nn.seq2seq.sequence_loss_by_example(\n",
    "            [logits], [tf.reshape(self.targets, [-1])], [tf.ones([batch_size * num_steps])])\n",
    "        self.cost = cost = tf.reduce_sum(loss) / batch_size\n",
    "        self.final_state = state\n",
    "\n",
    "        if not is_training: return\n",
    "        self.lr = tf.Variable(0.0, trainable=False)\n",
    "        tvars = tf.trainable_variables()\n",
    "        grads, _ = tf.clip_by_global_norm(tf.gradients(cost, tvars), 5)\n",
    "        optimizer = tf.train.GradientDescentOptimizer(self.lr)\n",
    "        self.train_op = optimizer.apply_gradients(zip(grads, tvars))\n",
    "\n",
    "    def assign_lr(self, session, lr_value):\n",
    "        session.run(tf.assign(self.lr, lr_value))\n",
    "        \n",
    "print(\"Model generated!\")"
   ]
  },
  {
   "cell_type": "markdown",
   "metadata": {
    "collapsed": true
   },
   "source": [
    "### Step 4: 训练模型"
   ]
  },
  {
   "cell_type": "code",
   "execution_count": null,
   "metadata": {
    "collapsed": false
   },
   "outputs": [
    {
     "name": "stdout",
     "output_type": "stream",
     "text": [
      "Epoch: 1 Learning rate: 1.000\n",
      "0.008 perplexity: 5743.727 speed: 197 wps\n",
      "0.107 perplexity: 1201.711 speed: 233 wps\n",
      "0.206 perplexity: 863.146 speed: 235 wps\n",
      "0.306 perplexity: 692.729 speed: 237 wps\n",
      "0.405 perplexity: 595.858 speed: 239 wps\n",
      "0.505 perplexity: 529.792 speed: 240 wps\n",
      "0.604 perplexity: 475.562 speed: 241 wps\n",
      "0.704 perplexity: 437.009 speed: 241 wps\n",
      "0.803 perplexity: 407.033 speed: 242 wps\n",
      "0.903 perplexity: 380.664 speed: 242 wps\n",
      "Epoch: 1 Train Perplexity: 360.271\n",
      "Epoch: 1 Valid Perplexity: 213.824\n",
      "Epoch: 2 Learning rate: 1.000\n",
      "0.008 perplexity: 257.275 speed: 252 wps\n",
      "0.107 perplexity: 199.571 speed: 231 wps\n",
      "0.206 perplexity: 207.185 speed: 231 wps\n",
      "0.306 perplexity: 201.614 speed: 234 wps\n",
      "0.405 perplexity: 199.146 speed: 236 wps\n",
      "0.505 perplexity: 196.261 speed: 240 wps\n",
      "0.604 perplexity: 190.792 speed: 241 wps\n",
      "0.704 perplexity: 187.582 speed: 242 wps\n",
      "0.803 perplexity: 184.645 speed: 243 wps\n",
      "0.903 perplexity: 180.317 speed: 244 wps\n",
      "Epoch: 2 Train Perplexity: 177.518\n",
      "Epoch: 2 Valid Perplexity: 153.699\n",
      "Epoch: 3 Learning rate: 1.000\n",
      "0.008 perplexity: 185.005 speed: 229 wps\n",
      "0.107 perplexity: 143.224 speed: 239 wps\n",
      "0.206 perplexity: 153.393 speed: 229 wps\n",
      "0.306 perplexity: 149.645 speed: 207 wps\n",
      "0.405 perplexity: 148.905 speed: 200 wps\n",
      "0.505 perplexity: 147.926 speed: 197 wps\n",
      "0.604 perplexity: 144.739 speed: 195 wps\n",
      "0.704 perplexity: 143.543 speed: 190 wps\n",
      "0.803 perplexity: 142.433 speed: 188 wps\n",
      "0.903 perplexity: 139.689 speed: 188 wps\n",
      "Epoch: 3 Train Perplexity: 138.276\n",
      "Epoch: 3 Valid Perplexity: 130.090\n",
      "Epoch: 4 Learning rate: 1.000\n",
      "0.008 perplexity: 151.183 speed: 186 wps\n",
      "0.107 perplexity: 116.480 speed: 182 wps\n"
     ]
    }
   ],
   "source": [
    "def run_epoch(session, m, data, eval_op, verbose=False):\n",
    "    epoch_size = ((len(data) // m.batch_size) - 1) // m.num_steps\n",
    "    start_time = time.time()\n",
    "    costs = 0.0\n",
    "    iters = 0\n",
    "    state = m.initial_state.eval()\n",
    "    for step, (x, y) in enumerate(ptb_iterator(data, m.batch_size, m.num_steps)):\n",
    "        cost, state, _ = session.run([m.cost, m.final_state, eval_op], \n",
    "                                     {m.input_data: x, m.targets: y, m.initial_state: state})\n",
    "        costs += cost\n",
    "        iters += m.num_steps\n",
    "\n",
    "        if verbose and step % (epoch_size // 10) == 10:\n",
    "            print(\"%.3f perplexity: %.3f speed: %.0f wps\" % \n",
    "                  (step * 1.0 / epoch_size, np.exp(costs / iters),\n",
    "                   iters * m.batch_size / (time.time() - start_time)))\n",
    "    return np.exp(costs / iters)\n",
    "\n",
    "with tf.Session() as session:\n",
    "    initializer = tf.random_uniform_initializer(-0.05, 0.05)\n",
    "    with tf.variable_scope(\"model\", reuse=None, initializer=initializer):\n",
    "        m = PTBModel(True, 20, 35)\n",
    "    with tf.variable_scope(\"model\", reuse=True, initializer=initializer):\n",
    "        mtest = PTBModel(False, 1, 1)\n",
    "\n",
    "    tf.initialize_all_variables().run()\n",
    "\n",
    "    for i in range(39):\n",
    "        base_lr = 1.0\n",
    "        lr_decay = 0.8 ** max(i - 6, 0.0)\n",
    "        m.assign_lr(session, base_lr * lr_decay)\n",
    "\n",
    "        print(\"Epoch: %d Learning rate: %.3f\" % (i + 1, session.run(m.lr)))\n",
    "        train_perplexity = run_epoch(session, m, train_data, m.train_op, verbose=True)\n",
    "        print(\"Epoch: %d Train Perplexity: %.3f\" % (i + 1, train_perplexity))\n",
    "        valid_perplexity = run_epoch(session, mtest, valid_data, tf.no_op())\n",
    "        print(\"Epoch: %d Valid Perplexity: %.3f\" % (i + 1, valid_perplexity))\n",
    "\n",
    "    test_perplexity = run_epoch(session, mtest, test_data, tf.no_op())\n",
    "    print(\"Test Perplexity: %.3f\" % test_perplexity)"
   ]
  },
  {
   "cell_type": "code",
   "execution_count": null,
   "metadata": {
    "collapsed": true
   },
   "outputs": [],
   "source": []
  }
 ],
 "metadata": {
  "kernelspec": {
   "display_name": "Python 2",
   "language": "python",
   "name": "python2"
  },
  "language_info": {
   "codemirror_mode": {
    "name": "ipython",
    "version": 2
   },
   "file_extension": ".py",
   "mimetype": "text/x-python",
   "name": "python",
   "nbconvert_exporter": "python",
   "pygments_lexer": "ipython2",
   "version": "2.7.6"
  }
 },
 "nbformat": 4,
 "nbformat_minor": 0
}
