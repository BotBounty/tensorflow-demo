{
 "cells": [
  {
   "cell_type": "code",
   "execution_count": 1,
   "metadata": {
    "collapsed": false
   },
   "outputs": [
    {
     "name": "stdout",
     "output_type": "stream",
     "text": [
      "a/b/Variable:0\n",
      "a/b/b:0\n"
     ]
    }
   ],
   "source": [
    "import tensorflow as tf\n",
    "\n",
    "with tf.name_scope(\"a\"):\n",
    "    with tf.name_scope(\"b\"):\n",
    "        a = tf.Variable([1])          \n",
    "        print a.name\n",
    "        b = tf.Variable([1], name=\"b\")\n",
    "        print b.name"
   ]
  },
  {
   "cell_type": "code",
   "execution_count": 2,
   "metadata": {
    "collapsed": false
   },
   "outputs": [
    {
     "name": "stdout",
     "output_type": "stream",
     "text": [
      "a_1/b/Variable:0\n",
      "a_1/b/b:0\n"
     ]
    }
   ],
   "source": [
    "with tf.variable_scope(\"a\"):\n",
    "    with tf.variable_scope(\"b\"):\n",
    "        a = tf.Variable([1])          \n",
    "        print a.name\n",
    "        b = tf.Variable([1], name=\"b\")\n",
    "        print b.name"
   ]
  },
  {
   "cell_type": "code",
   "execution_count": 3,
   "metadata": {
    "collapsed": false
   },
   "outputs": [
    {
     "name": "stdout",
     "output_type": "stream",
     "text": [
      "a_2/b/Variable:0\n",
      "a_2/b/b:0\n",
      "a/b/b_1:0\n",
      "a/b/b_1:0\n"
     ]
    }
   ],
   "source": [
    "with tf.variable_scope(\"a\"):\n",
    "    with tf.variable_scope(\"b\"):\n",
    "        a = tf.Variable([1])          \n",
    "        print a.name\n",
    "        b = tf.Variable([1], name=\"b\")\n",
    "        print b.name\n",
    "        v = tf.get_variable(\"b\", [1])\n",
    "        print v.name\n",
    "    with tf.variable_scope(\"b\", reuse=True):\n",
    "        v1 = tf.get_variable(\"b\", [1])\n",
    "        print v1.name     "
   ]
  },
  {
   "cell_type": "code",
   "execution_count": 4,
   "metadata": {
    "collapsed": false
   },
   "outputs": [
    {
     "name": "stdout",
     "output_type": "stream",
     "text": [
      "foo/bar/v:0\n",
      "foo/a/bar/Variable:0\n",
      "foo/a/bar/Const:0\n"
     ]
    }
   ],
   "source": [
    "with tf.variable_scope(\"foo\"):\n",
    "    with tf.name_scope(\"a\"):\n",
    "        with tf.variable_scope(\"bar\"):\n",
    "            v = tf.get_variable(\"v\", [1])\n",
    "            print v.name\n",
    "            \n",
    "            v1 = tf.Variable([1]) \n",
    "            print v1.name\n",
    "\n",
    "            c = tf.constant(10.0)\n",
    "            print c.name"
   ]
  }
 ],
 "metadata": {
  "kernelspec": {
   "display_name": "Python 2",
   "language": "python",
   "name": "python2"
  },
  "language_info": {
   "codemirror_mode": {
    "name": "ipython",
    "version": 2
   },
   "file_extension": ".py",
   "mimetype": "text/x-python",
   "name": "python",
   "nbconvert_exporter": "python",
   "pygments_lexer": "ipython2",
   "version": "2.7.6"
  }
 },
 "nbformat": 4,
 "nbformat_minor": 0
}
