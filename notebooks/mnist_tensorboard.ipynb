{
 "cells": [
  {
   "cell_type": "markdown",
   "metadata": {},
   "source": [
    "### Step 1: 读取数据"
   ]
  },
  {
   "cell_type": "code",
   "execution_count": 1,
   "metadata": {
    "collapsed": false
   },
   "outputs": [
    {
     "name": "stdout",
     "output_type": "stream",
     "text": [
      "Extracting /tmp/data/train-images-idx3-ubyte.gz\n",
      "Extracting /tmp/data/train-labels-idx1-ubyte.gz\n",
      "Extracting /tmp/data/t10k-images-idx3-ubyte.gz\n",
      "Extracting /tmp/data/t10k-labels-idx1-ubyte.gz\n",
      "Training data size:  55000\n",
      "Validating data size:  5000\n",
      "Testing data size:  10000\n"
     ]
    }
   ],
   "source": [
    "import tensorflow as tf\n",
    "import time\n",
    "from tensorflow.examples.tutorials.mnist import input_data\n",
    "\n",
    "SUMMARY_DIR = \"/log/mnist-log\"\n",
    "if tf.gfile.Exists(SUMMARY_DIR):\n",
    "    tf.gfile.DeleteRecursively(SUMMARY_DIR)\n",
    "tf.gfile.MakeDirs(SUMMARY_DIR)\n",
    "\n",
    "mnist = input_data.read_data_sets(\"/tmp/data\", one_hot=True)\n",
    "\n",
    "print \"Training data size: \", mnist.train.num_examples\n",
    "print \"Validating data size: \", mnist.validation.num_examples\n",
    "print \"Testing data size: \", mnist.test.num_examples"
   ]
  },
  {
   "cell_type": "markdown",
   "metadata": {},
   "source": [
    "### Step 2: 创建神经网络，并指定log信息"
   ]
  },
  {
   "cell_type": "code",
   "execution_count": 2,
   "metadata": {
    "collapsed": false
   },
   "outputs": [
    {
     "name": "stdout",
     "output_type": "stream",
     "text": [
      "Network created!\n"
     ]
    }
   ],
   "source": [
    "tf.reset_default_graph()\n",
    "sess = tf.InteractiveSession()\n",
    "\n",
    "def weight_variable(shape):\n",
    "    \"\"\"Create a weight variable with appropriate initialization.\"\"\"\n",
    "    initial = tf.truncated_normal(shape, stddev=0.1, seed = 2)\n",
    "    return tf.Variable(initial)\n",
    "\n",
    "def bias_variable(shape):\n",
    "    \"\"\"Create a bias variable with appropriate initialization.\"\"\"\n",
    "    initial = tf.constant(0.1, shape=shape)\n",
    "    return tf.Variable(initial)\n",
    "\n",
    "def variable_summaries(var, name):\n",
    "    \"\"\"Attach a lot of summaries to a Tensor.\"\"\"\n",
    "    with tf.name_scope('summaries'):\n",
    "        mean = tf.reduce_mean(var)\n",
    "        tf.scalar_summary('mean/' + name, mean)\n",
    "        with tf.name_scope('stddev'):\n",
    "            stddev = tf.sqrt(tf.reduce_sum(tf.square(var - mean)))\n",
    "        tf.scalar_summary('sttdev/' + name, stddev)\n",
    "        tf.scalar_summary('max/' + name, tf.reduce_max(var))\n",
    "        tf.scalar_summary('min/' + name, tf.reduce_min(var))\n",
    "        tf.histogram_summary(name, var)\n",
    "\n",
    "def nn_layer(input_tensor, input_dim, output_dim, layer_name, act=tf.nn.relu):\n",
    "    \"\"\"Reusable code for making a simple neural net layer.\n",
    "    It does a matrix multiply, bias add, and then uses relu to nonlinearize.\n",
    "    It also sets up name scoping so that the resultant graph is easy to read, and\n",
    "    adds a number of summary ops.\n",
    "    \"\"\"\n",
    "    # Adding a name scope ensures logical grouping of the layers in the graph.\n",
    "    with tf.name_scope(layer_name):\n",
    "        # This Variable will hold the state of the weights for the layer\n",
    "        with tf.name_scope('weights'):\n",
    "            weights = weight_variable([input_dim, output_dim])\n",
    "            variable_summaries(weights, layer_name + '/weights')\n",
    "        with tf.name_scope('biases'):\n",
    "            biases = bias_variable([output_dim])\n",
    "            variable_summaries(biases, layer_name + '/biases')\n",
    "        with tf.name_scope('Wx_plus_b'):\n",
    "            preactivate = tf.matmul(input_tensor, weights) + biases\n",
    "            tf.histogram_summary(layer_name + '/pre_activations', preactivate)\n",
    "        activations = act(preactivate, 'activation')\n",
    "        tf.histogram_summary(layer_name + '/activations', activations)\n",
    "        return activations\n",
    "\n",
    "# Create a multilayer model.\n",
    "with tf.name_scope('input'):\n",
    "    x = tf.placeholder(tf.float32, [None, 784], name='x-input')\n",
    "    image_shaped_input = tf.reshape(x, [-1, 28, 28, 1])\n",
    "    tf.image_summary('input', image_shaped_input, 20)\n",
    "    y_ = tf.placeholder(tf.float32, [None, 10], name='y-input')\n",
    "\n",
    "hidden_nodes = 500\n",
    "hidden1 = nn_layer(x, 784, hidden_nodes, 'layer1')\n",
    "y = nn_layer(hidden1, hidden_nodes, 10, 'layer2', act=tf.nn.softmax)\n",
    "print(\"Network created!\")"
   ]
  },
  {
   "cell_type": "markdown",
   "metadata": {},
   "source": [
    "### Step 3: 指定训练过程"
   ]
  },
  {
   "cell_type": "code",
   "execution_count": 3,
   "metadata": {
    "collapsed": false
   },
   "outputs": [
    {
     "name": "stdout",
     "output_type": "stream",
     "text": [
      "Training & eval step setup!\n"
     ]
    }
   ],
   "source": [
    "with tf.name_scope('cross_entropy'):\n",
    "    diff = y_ * tf.log(tf.clip_by_value(y, 1e-10, 1.0))\n",
    "    with tf.name_scope('total'):\n",
    "        cross_entropy = -tf.reduce_mean(diff)\n",
    "    tf.scalar_summary('cross entropy', cross_entropy)\n",
    "\n",
    "with tf.name_scope('train'):\n",
    "    train_step = tf.train.AdamOptimizer(0.001).minimize(cross_entropy)\n",
    "\n",
    "with tf.name_scope('accuracy'):\n",
    "    with tf.name_scope('correct_prediction'):\n",
    "        correct_prediction = tf.equal(tf.argmax(y, 1), tf.argmax(y_, 1))\n",
    "    with tf.name_scope('accuracy'):\n",
    "        accuracy = tf.reduce_mean(tf.cast(correct_prediction, tf.float32))\n",
    "    tf.scalar_summary('accuracy', accuracy)\n",
    "\n",
    "print(\"Training & eval step setup!\")"
   ]
  },
  {
   "cell_type": "markdown",
   "metadata": {},
   "source": [
    "### Step 4: 指定日志文件地址， 初始化所有变量"
   ]
  },
  {
   "cell_type": "code",
   "execution_count": 4,
   "metadata": {
    "collapsed": false
   },
   "outputs": [
    {
     "name": "stdout",
     "output_type": "stream",
     "text": [
      "Log init done!\n"
     ]
    }
   ],
   "source": [
    "# Merge all the summaries and write them out to　SUMMARY_DIR\n",
    "merged = tf.merge_all_summaries()\n",
    "train_writer = tf.train.SummaryWriter(SUMMARY_DIR + '/train', sess.graph)\n",
    "test_writer = tf.train.SummaryWriter(SUMMARY_DIR + '/test')\n",
    "\n",
    "tf.initialize_all_variables().run()\n",
    "\n",
    "validate_feed = {x: mnist.validation.images, y_: mnist.validation.labels}\n",
    "test_feed = {x: mnist.test.images, y_: mnist.test.labels}\n",
    "print(\"Log init done!\")"
   ]
  },
  {
   "cell_type": "markdown",
   "metadata": {},
   "source": [
    "### Step 5: 训练模型"
   ]
  },
  {
   "cell_type": "code",
   "execution_count": 5,
   "metadata": {
    "collapsed": false
   },
   "outputs": [
    {
     "name": "stdout",
     "output_type": "stream",
     "text": [
      "Training begins @ 1466980873.216786\n",
      "After 0 training step(s), validation accuracy = 0.2188, test accuracy = 0.2096\n",
      "After 100 training step(s), validation accuracy = 0.9168, test accuracy = 0.9113\n",
      "After 200 training step(s), validation accuracy = 0.9382, test accuracy = 0.934\n",
      "After 300 training step(s), validation accuracy = 0.9528, test accuracy = 0.9483\n",
      "After 400 training step(s), validation accuracy = 0.9538, test accuracy = 0.9535\n",
      "Training ends @ 1466980891.376311\n",
      "Training elapsed time: 18.159525 s\n",
      "After 500 training step(s), test accuracy = 0.9557\n"
     ]
    }
   ],
   "source": [
    "def feed_dict(train):\n",
    "    \"\"\"Make a TensorFlow feed_dict: maps data onto Tensor placeholders.\"\"\"\n",
    "    if train:\n",
    "        xs, ys = mnist.train.next_batch(100)\n",
    "    else:\n",
    "        xs, ys = mnist.test.images, mnist.test.labels\n",
    "    return {x: xs, y_: ys}\n",
    "\n",
    "STEPS = 500\n",
    "saver = tf.train.Saver()\n",
    "time_begin = time.time()\n",
    "print(\"Training begins @ %f\" % time_begin)\n",
    "for i in range(STEPS):\n",
    "    _, summary = sess.run([train_step, merged], feed_dict=feed_dict(True))\n",
    "\n",
    "    if i % 100 == 0:\n",
    "        # Write summary\n",
    "        train_writer.add_summary(summary, i)\n",
    "        \n",
    "        summary = sess.run(merged, feed_dict=feed_dict(False))\n",
    "        test_writer.add_summary(summary, i)        \n",
    "        \n",
    "        # Print training information.\n",
    "        validate_acc = sess.run(accuracy, feed_dict=validate_feed)\n",
    "        test_acc = sess.run(accuracy, feed_dict=test_feed)\n",
    "        print(\"After %d training step(s), validation accuracy = %g, test accuracy = %g\" %  \n",
    "              (i, validate_acc, test_acc))\n",
    "        \n",
    "        # Store model.\n",
    "        if i == 300: saver.save(sess, \"/tmp/saved_model\")\n",
    "\n",
    "            \n",
    "time_end = time.time()\n",
    "print(\"Training ends @ %f\" % time_end)\n",
    "training_time = time_end - time_begin\n",
    "print(\"Training elapsed time: %f s\" % training_time)\n",
    "test_acc = sess.run(accuracy, feed_dict=test_feed)\n",
    "print(\"After %d training step(s), test accuracy = %g\" %  (STEPS, test_acc))"
   ]
  },
  {
   "cell_type": "code",
   "execution_count": 6,
   "metadata": {
    "collapsed": false
   },
   "outputs": [
    {
     "name": "stdout",
     "output_type": "stream",
     "text": [
      "Test accuracy for stored model = 0.9483\n"
     ]
    }
   ],
   "source": [
    "saver.restore(sess, \"/tmp/saved_model\")\n",
    "test_acc = sess.run(accuracy, feed_dict=test_feed)\n",
    "print(\"Test accuracy for stored model = %g\" %  (test_acc))\n",
    "\n",
    "sess.close()"
   ]
  },
  {
   "cell_type": "code",
   "execution_count": null,
   "metadata": {
    "collapsed": true
   },
   "outputs": [],
   "source": []
  }
 ],
 "metadata": {
  "kernelspec": {
   "display_name": "Python 2",
   "language": "python",
   "name": "python2"
  },
  "language_info": {
   "codemirror_mode": {
    "name": "ipython",
    "version": 2
   },
   "file_extension": ".py",
   "mimetype": "text/x-python",
   "name": "python",
   "nbconvert_exporter": "python",
   "pygments_lexer": "ipython2",
   "version": "2.7.6"
  }
 },
 "nbformat": 4,
 "nbformat_minor": 0
}
