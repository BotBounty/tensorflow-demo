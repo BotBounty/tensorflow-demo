{
 "cells": [
  {
   "cell_type": "markdown",
   "metadata": {},
   "source": [
    "import tensorflow的工具包"
   ]
  },
  {
   "cell_type": "code",
   "execution_count": 1,
   "metadata": {
    "collapsed": true
   },
   "outputs": [],
   "source": [
    "import tensorflow as tf"
   ]
  },
  {
   "cell_type": "markdown",
   "metadata": {},
   "source": [
    "初始化一个session来运行tensorflow程序。 所有对tensorflow图上节点的操作都需要在session底下进行。session维护了运行的上下文信息"
   ]
  },
  {
   "cell_type": "code",
   "execution_count": 2,
   "metadata": {
    "collapsed": false
   },
   "outputs": [],
   "source": [
    "sess = tf.InteractiveSession()"
   ]
  },
  {
   "cell_type": "markdown",
   "metadata": {},
   "source": [
    "通过tf.name_scope来指定命名空间，用一个命名空间中的变量在图上会自动缩略到一起。\n",
    "\n",
    "在input中指定了3个输入，一个是常数，用tf.constant指定； 一个是变量，用tf.Variable指定，对于变量，我们需要指定初始值。这里的初始值为[0,1)的随机值；最后一个是placeholder，可以理解为输入数据的一个接口。"
   ]
  },
  {
   "cell_type": "code",
   "execution_count": 3,
   "metadata": {
    "collapsed": true
   },
   "outputs": [],
   "source": [
    "with tf.name_scope('input'):\n",
    "    input1 = tf.constant([1.0, 2.0, 3.0], name=\"input1\")\n",
    "    input2 = tf.Variable(tf.random_uniform([3]), name=\"input2\")          \n",
    "    input3 = tf.placeholder(tf.float32, [3], name=\"input3\")"
   ]
  },
  {
   "cell_type": "markdown",
   "metadata": {},
   "source": [
    "初始化所有变量。tensorflow要求在计算之前要对所有变量初始化。"
   ]
  },
  {
   "cell_type": "code",
   "execution_count": 4,
   "metadata": {
    "collapsed": false
   },
   "outputs": [
    {
     "name": "stdout",
     "output_type": "stream",
     "text": [
      "<tensorflow.python.ops.variables.Variable object at 0x7fbb782c8bd0>\n",
      "[ 0.9391259   0.75194204  0.15929091]\n"
     ]
    }
   ],
   "source": [
    "tf.initialize_all_variables().run() \n",
    "print input2\n",
    "print input2.eval()"
   ]
  },
  {
   "cell_type": "markdown",
   "metadata": {},
   "source": [
    "指定一个加法操作。注意这里的加法不是3个数的加法，而是3个向量的加法。 tensorflow和numpy类似，可以支持对任意维度的矩阵做运算。"
   ]
  },
  {
   "cell_type": "code",
   "execution_count": 5,
   "metadata": {
    "collapsed": false
   },
   "outputs": [],
   "source": [
    "with tf.name_scope(\"add\"):\n",
    "    output = tf.add_n([input1, input2, input3], name=\"add\")"
   ]
  },
  {
   "cell_type": "markdown",
   "metadata": {},
   "source": [
    "将建立的计算图信息记录到log中，这样tensorboard可以实现可视化。"
   ]
  },
  {
   "cell_type": "code",
   "execution_count": 8,
   "metadata": {
    "collapsed": false
   },
   "outputs": [
    {
     "name": "stdout",
     "output_type": "stream",
     "text": [
      "input/input1:0\n"
     ]
    }
   ],
   "source": [
    "writer = tf.train.SummaryWriter(\"/log/demo-hello\", sess.graph)"
   ]
  },
  {
   "cell_type": "markdown",
   "metadata": {},
   "source": [
    "输出加法结果，注意tensorflow采用惰性计算（lazy evluation），只有当变量被用到的时候才会被计算。所以当查看结果时要明确支出需要查看的变量"
   ]
  },
  {
   "cell_type": "code",
   "execution_count": 7,
   "metadata": {
    "collapsed": false
   },
   "outputs": [
    {
     "name": "stdout",
     "output_type": "stream",
     "text": [
      "[ 3.93912601  5.75194216  7.15929079]\n"
     ]
    }
   ],
   "source": [
    "print sess.run(output, {input3: [2, 3, 4]})"
   ]
  },
  {
   "cell_type": "code",
   "execution_count": null,
   "metadata": {
    "collapsed": true
   },
   "outputs": [],
   "source": []
  }
 ],
 "metadata": {
  "kernelspec": {
   "display_name": "Python 2",
   "language": "python",
   "name": "python2"
  },
  "language_info": {
   "codemirror_mode": {
    "name": "ipython",
    "version": 2
   },
   "file_extension": ".py",
   "mimetype": "text/x-python",
   "name": "python",
   "nbconvert_exporter": "python",
   "pygments_lexer": "ipython2",
   "version": "2.7.6"
  }
 },
 "nbformat": 4,
 "nbformat_minor": 0
}
